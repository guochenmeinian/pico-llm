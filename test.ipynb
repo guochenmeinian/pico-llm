{
 "cells": [
  {
   "cell_type": "code",
   "execution_count": 13,
   "metadata": {},
   "outputs": [],
   "source": [
    "import torch\n",
    "import math\n",
    "# import matplotlib.pyplot as plt\n",
    "# import seaborn as sns\n",
    "import numpy as np\n",
    "\n",
    "# 设置参数\n",
    "seq_len = 5\n",
    "batch_size = 2\n",
    "n_heads = 3\n",
    "d_head = 4\n",
    "d_model = n_heads * d_head"
   ]
  },
  {
   "cell_type": "code",
   "execution_count": 54,
   "metadata": {},
   "outputs": [],
   "source": [
    "# [seq_len, batch_size, d_model]\n",
    "q = torch.randn(seq_len, batch_size, d_model)\n",
    "k = torch.randn(seq_len, batch_size, d_model)\n",
    "v = torch.randn(seq_len, batch_size, d_model)"
   ]
  },
  {
   "cell_type": "code",
   "execution_count": null,
   "metadata": {},
   "outputs": [
    {
     "data": {
      "text/plain": [
       "torch.Size([2, 3, 5, 4])"
      ]
     },
     "execution_count": 56,
     "metadata": {},
     "output_type": "execute_result"
    }
   ],
   "source": [
    "# [seq_len, batch_size, d_model] -> [batch_size, n_heads, seq_len, d_head] -> [batch_size, seq_len, n_heads, d_head]\n",
    "q.view(seq_len, batch_size, n_heads, d_head).permute(1,2,0,3).contiguous()\n"
   ]
  },
  {
   "cell_type": "code",
   "execution_count": null,
   "metadata": {},
   "outputs": [
    {
     "name": "stdout",
     "output_type": "stream",
     "text": [
      "torch.Size([5, 2, 12])\n",
      "torch.Size([2, 3, 5, 4])\n"
     ]
    }
   ],
   "source": [
    "print(q.shape)\n",
    "# 2，12，5 -> 2,3,5,4\n",
    "print(q.permute(1, 2, 0).contiguous().view(batch_size, n_heads, seq_len, d_head).shape)"
   ]
  },
  {
   "cell_type": "code",
   "execution_count": null,
   "metadata": {},
   "outputs": [],
   "source": []
  }
 ],
 "metadata": {
  "kernelspec": {
   "display_name": "pico",
   "language": "python",
   "name": "python3"
  },
  "language_info": {
   "codemirror_mode": {
    "name": "ipython",
    "version": 3
   },
   "file_extension": ".py",
   "mimetype": "text/x-python",
   "name": "python",
   "nbconvert_exporter": "python",
   "pygments_lexer": "ipython3",
   "version": "3.10.16"
  }
 },
 "nbformat": 4,
 "nbformat_minor": 2
}
